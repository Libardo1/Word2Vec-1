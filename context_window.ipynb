{
 "cells": [
  {
   "cell_type": "code",
   "execution_count": null,
   "metadata": {
    "collapsed": true
   },
   "outputs": [],
   "source": [
    "def context_window_search(context_size = 3): \n",
    "    \"\"\" Illustrates how the context window changes across a sentence\n",
    "    for a given target word \"\"\"\n",
    "    \n",
    "    word_tuple = tuple(['<s>', 'a', 'b', 'c', 'd', 'e', '</s>'])\n",
    "    print \"sentence example: \", word_tuple\n",
    "    context_size = context_size\n",
    "    count = 1\n",
    "    context = []\n",
    "\n",
    "    for i, word in enumerate(word_tuple):\n",
    "        if word != '<s>':\n",
    "            target = word\n",
    "            if count > context_size:\n",
    "                context = context[1:]\n",
    "            context.append(word_tuple[i-1])         \n",
    "            print \"context: {}, target: {}\".format(context, target)\n",
    "            if word == '</s>':\n",
    "                for n in range(len(context)-1, 0, -1):\n",
    "                    context = context[-n:]\n",
    "                    print \"context: {}, target: {}\".format(context, target)\n",
    "            count += 1"
   ]
  }
 ],
 "metadata": {
  "kernelspec": {
   "display_name": "Python 2",
   "language": "python",
   "name": "python2"
  },
  "language_info": {
   "codemirror_mode": {
    "name": "ipython",
    "version": 2
   },
   "file_extension": ".py",
   "mimetype": "text/x-python",
   "name": "python",
   "nbconvert_exporter": "python",
   "pygments_lexer": "ipython2",
   "version": "2.7.10"
  }
 },
 "nbformat": 4,
 "nbformat_minor": 0
}
