{
 "cells": [
  {
   "cell_type": "markdown",
   "metadata": {},
   "source": [
    "## Introduction to Word2Vec\n",
    "#### The model Word2Vec is a simple word embedding neural network with a single hidden layer, based on the study of Le & Mikolov (2014)."
   ]
  },
  {
   "cell_type": "code",
   "execution_count": null,
   "metadata": {
    "collapsed": true
   },
   "outputs": [],
   "source": [
    "import seaborn as sb\n",
    "import numpy as np\n",
    "import pandas as pd\n",
    "%matplotlib inline"
   ]
  },
  {
   "cell_type": "markdown",
   "metadata": {},
   "source": [
    "Word embeddings from plain text.\n",
    "\n",
    "The model assumes the *Distributional Hypothesis* that words are characterized by words they hang out with. this idea is used to estimate the probability of two words occurring near each other."
   ]
  },
  {
   "cell_type": "markdown",
   "metadata": {},
   "source": [
    "## Introduction"
   ]
  },
  {
   "cell_type": "markdown",
   "metadata": {},
   "source": [
    "In NLP popular fixed-length features are **bag-of-words**.\n",
    "\n",
    "However bag-of-words features have two major weaknesses: \n",
    "- they lose the ordering of the words\n",
    "- they also ignore semantics of the words. \n",
    "\n",
    "In the paper by **Le & Mikolov (2014)**, they propose a distributed representations of sentences and documents, which they call *Paragraph Vector*. \n",
    "\n",
    "It's an unsupervised algorithm that learns fixed-length feature representations from **variable-length pieces of texts**, such as sentences, paragraphs, and documents. The algorithm represents each document by a dense vector which is trained to predict words in the document. Its construction gives the algorithm the potential to overcome the weaknesses of bag-of- words models. \n",
    "\n",
    "Empirical results show that **Paragraph Vectors outperform bag-of-words models** as well as other techniques for text representations. The paper then shows that they were abke to achieve new **state-of-the-art** results on several **text classification** and **sentiment analysis** tasks.\n"
   ]
  },
  {
   "cell_type": "markdown",
   "metadata": {},
   "source": [
    "## Motivation"
   ]
  },
  {
   "cell_type": "markdown",
   "metadata": {},
   "source": [
    "after training words with similar meaning are mapped to a similar position in the vector space. The difference between word vectors also carry meaning. For ex-ample, the word vectors can be used to answer analogy questions using simple vector algebra: “King” - “man” + “woman” = “Queen”.\n",
    "Theses properties of word vectors are useful in many NLP task, such as language modelling and understanding and machine translation."
   ]
  },
  {
   "cell_type": "markdown",
   "metadata": {},
   "source": [
    "## Language Model"
   ]
  },
  {
   "cell_type": "markdown",
   "metadata": {},
   "source": [
    "we concatenate the paragraph vector with several word vec- tors from a paragraph and predict the following word in the given context. Both word vectors and paragraph vectors are trained by the stochastic gradient descent and backpropaga- tion\n",
    "\n",
    "neural network language model proposed:\n",
    "\n",
    " - each word is represented by a one -hot  vector\n",
    " - if we use a multi-word context, then the vectors are averaged \n",
    " - this context vector is the input of a neural network, and tries to predict the next word.\n",
    "\n",
    "### Results\n",
    "\n",
    "After training, the word vectors are mapped into a vector space such that semantically similar words have similar vector representations."
   ]
  },
  {
   "cell_type": "markdown",
   "metadata": {},
   "source": [
    "In the study they extend the model to go beyond word level to achieve phrase-level or sentence-level representations. \n",
    "\n",
    "Paragraph Vectors is less complex and outperforms other methods that have tried to achieve similar representations, such as **word weighting functions** (which requires task-specific tuning) and **parse trees**. \n",
    "\n",
    "Paragraph Vector takes a general approach. It is capable of constructing representations of input sequences of any length."
   ]
  },
  {
   "cell_type": "markdown",
   "metadata": {},
   "source": [
    "## One-Word Context"
   ]
  },
  {
   "cell_type": "markdown",
   "metadata": {},
   "source": [
    "As mentioned before every word is mapped to a unique vector, represented by a column in a matrix W. It is then used as features for prediction of the next word in a sentence.\n",
    "\n",
    "maximize the average log probability\n",
    "\n",
    "[EQ]\n",
    "\n",
    "In the paper hierarchical softmax is used for faster training, but for simpliticy I will just use a regular softmax regression as the multiclass classifier\n",
    "\n",
    "[EQ]\n"
   ]
  },
  {
   "cell_type": "markdown",
   "metadata": {},
   "source": [
    "#### Softmax Regression"
   ]
  },
  {
   "cell_type": "markdown",
   "metadata": {},
   "source": [
    "Word2Vec is a very simple neural network with a single hidden layer."
   ]
  },
  {
   "cell_type": "code",
   "execution_count": 1,
   "metadata": {
    "collapsed": true
   },
   "outputs": [],
   "source": [
    "sentences = ['<s> the prince loves skateboarding in the park </s>', \n",
    "             '<s> the princess loves the prince but the princess hates skateboarding </s>',\n",
    "             '<s> skateboarding in the park is popular </s>',\n",
    "             '<s> the prince is popular but the prince hates attention </s>',\n",
    "             '<s> the princess loves attention but the princess hates the park </s>',]"
   ]
  },
  {
   "cell_type": "code",
   "execution_count": null,
   "metadata": {
    "collapsed": true
   },
   "outputs": [],
   "source": [
    "def text2sentences(text):\n",
    "    return text.lower().split('.')"
   ]
  },
  {
   "cell_type": "code",
   "execution_count": null,
   "metadata": {
    "collapsed": false
   },
   "outputs": [],
   "source": [
    "import numpy as np\n",
    "from collections import defaultdict\n",
    "\n",
    "class Word2Vec(object):\n",
    "    def __init__(self, sentences, learning_rate = 1.0):\n",
    "        self.sentences = sentences\n",
    "        self.N = 3 # number of nodes in Hidden Layer\n",
    "        self.V = None # Vocabulary size\n",
    "        self.WI = None\n",
    "        self.WO = None\n",
    "        self.vocabulary = None\n",
    "        self.learning_rate = learning_rate\n",
    "    \n",
    "    def Vocabulary(self):\n",
    "        dictionary = defaultdict()\n",
    "        # len of dictionary gives a unique integer to each new word\n",
    "        dictionary.default_factory = lambda: len(dictionary) \n",
    "        return dictionary\n",
    "\n",
    "    def docs2bow(self, docs, dictionary):\n",
    "        \"\"\"Transforms a list of strings into a list of lists where \n",
    "        each unique item is converted into a unique integer.\"\"\"\n",
    "        for doc in docs:\n",
    "            yield [dictionary[word] for word in doc.split()] # returns a generator\n",
    "    \n",
    "    def sentences2bow(self):\n",
    "        self.vocabulary = self.Vocabulary()\n",
    "        bow = list(self.docs2bow(self.sentences, self.vocabulary))\n",
    "        return bow\n",
    "    \n",
    "    def random_init(self):\n",
    "        self.V = len(self.vocabulary)\n",
    "        \n",
    "        # random initialization of weights between [-0.5 , 0.5] normalized by number of nodes mapping to.\n",
    "        self.WI =(np.random.random((self.V, self.N)) - 0.5) / self.N # input weights\n",
    "        self.WO =(np.random.random((self.N, self.V)) - 0.5) / self.V # output weights\n",
    "    \n",
    "    def softmax_regression(self, word, h):\n",
    "        # posterior probability P(word | context)\n",
    "        return (np.exp(h.dot(self.WO.T[self.vocabulary[word]])) / \n",
    "                sum(np.exp(h.dot(self.WO.T[self.vocabulary[w]])) for w in self.vocabulary))\n",
    "    \n",
    "    def backprop(self, context, target):\n",
    "\n",
    "        for word in self.vocabulary:\n",
    "\n",
    "            h = self.WI[self.vocabulary[context]]\n",
    "            P_word_context = self.softmax_regression(word, h)\n",
    "            \n",
    "            if word == target:\n",
    "                t = 1\n",
    "                print \"P(target|context)\", P_word_context\n",
    "            else:\n",
    "                t = 0\n",
    "\n",
    "            err = t - P_word_context # error\n",
    "            #print \"Error: \", err\n",
    "\n",
    "            # weight update using stochastic gradient descent\n",
    "            self.WO.T[self.vocabulary[word]] -= self.learning_rate * err * h\n",
    "            # update brings word vector closer in the feature space if word = target, and push them apart otherwise.\n",
    "\n",
    "        self.WI[self.vocabulary[context]] -= self.learning_rate * self.WO.sum(axis=1) # update only weights for input word\n",
    "    \n",
    "    def train(self):\n",
    "\n",
    "        bow = self.sentences2bow()\n",
    "        # visualize bag-of-word sentence conversion\n",
    "        # print bow\n",
    "        \n",
    "        self.random_init()\n",
    "        \n",
    "        for sentence in self.sentences:\n",
    "            prev_word = None\n",
    "            for word in sentence.split():\n",
    "                if prev_word != None:\n",
    "                    target = word\n",
    "                    context = prev_word\n",
    "                    self.backprop(context, target)\n",
    "                prev_word = word"
   ]
  },
  {
   "cell_type": "code",
   "execution_count": null,
   "metadata": {
    "collapsed": false,
    "scrolled": true
   },
   "outputs": [],
   "source": [
    "model = Word2Vec(sentences)\n",
    "model.train()"
   ]
  },
  {
   "cell_type": "markdown",
   "metadata": {},
   "source": [
    "Using the dot product $W_I \\cdot W'^T_O$ we compute the distance between the input word *dwarf* and the output word *hates*:"
   ]
  },
  {
   "cell_type": "markdown",
   "metadata": {},
   "source": [
    "Now using softmax regression, we can compute the posterior probability $P(w_O|w_I)$:\n",
    "\n",
    "$$ P(w_O|w_I) = y_i = \\frac{exp(W_I \\cdot W'^T_O)}{\\sum^V_{j=1} exp(W_I \\cdot W'^T_j)} $$"
   ]
  },
  {
   "cell_type": "markdown",
   "metadata": {},
   "source": [
    "### Updating the hidden-to-output layer weights"
   ]
  },
  {
   "cell_type": "markdown",
   "metadata": {},
   "source": [
    "loss function to minimize is: $E = -\\log P(w_O|w_I)$\n",
    "\n",
    "The error is computed with $t_j - P(w_O|w_I) = e_j$, where $t_j$ is 1 if $w_j$ is the actual output word, otherwise $t_j$ is 0.\n",
    "\n",
    "To obtain the gradient on the hidden-to-output weights, we compute $e_j \\cdot h_i$, where $h_i$ is a copy of the vector corresponding to the input word (only holds with a context of a single word). Finally, using stochastic gradient descent, with a learning rate $\\nu$ we obtain the weight update equation for the hidden to output layer weights:\n",
    "\n",
    "$$W'^{T (t)}_j = W'^{T (t-1)}_j - \\nu \\cdot e_j \\cdot h_j$$.\n"
   ]
  },
  {
   "cell_type": "markdown",
   "metadata": {},
   "source": [
    "### Updating the input-to-hidden layer weights"
   ]
  },
  {
   "cell_type": "markdown",
   "metadata": {},
   "source": [
    "backpropagate the prediction errors to the input-to-hidden weights"
   ]
  },
  {
   "cell_type": "markdown",
   "metadata": {},
   "source": [
    "### Multi-word context"
   ]
  },
  {
   "cell_type": "code",
   "execution_count": null,
   "metadata": {
    "collapsed": true
   },
   "outputs": [],
   "source": [
    "h = (WI[vocabulary[context[0]]] + WI[vocabulary[context[1]]]) / 2.0"
   ]
  },
  {
   "cell_type": "code",
   "execution_count": 15,
   "metadata": {
    "collapsed": true
   },
   "outputs": [],
   "source": [
    "import numpy as np\n",
    "from collections import OrderedDict, defaultdict\n",
    "\n",
    "class Word2Vec(object):\n",
    "    def __init__(self, sentences, learning_rate = 1.0, context_size = 3):\n",
    "        self.sentences = sentences\n",
    "        self.N = 3 # number of nodes in Hidden Layer\n",
    "        self.V = None # Vocabulary size\n",
    "        self.WI = None\n",
    "        self.WO = None\n",
    "        self.vocabulary = None\n",
    "        self.learning_rate = learning_rate\n",
    "        self.context_size = context_size\n",
    "    \n",
    "    def Vocabulary(self):\n",
    "        dictionary = defaultdict()\n",
    "        # len of dictionary gives a unique integer to each new word\n",
    "        dictionary.default_factory = lambda: len(dictionary) \n",
    "        return dictionary\n",
    "\n",
    "    def docs2bow(self, docs, dictionary):\n",
    "        \"\"\"Transforms a list of strings into a list of lists where \n",
    "        each unique item is converted into a unique integer.\"\"\"\n",
    "        for doc in docs:\n",
    "            yield [dictionary[word] for word in doc.split()] # returns a generator\n",
    "    \n",
    "    def sentences2bow(self):\n",
    "        self.vocabulary = self.Vocabulary()\n",
    "        bow = list(self.docs2bow(self.sentences, self.vocabulary))\n",
    "        return bow\n",
    "    \n",
    "    def random_init(self):\n",
    "        self.V = len(self.vocabulary)\n",
    "        \n",
    "        # random initialization of weights between [-0.5 , 0.5] normalized by number of nodes mapping to.\n",
    "        self.WI =(np.random.random((self.V, self.N)) - 0.5) / self.N # input weights\n",
    "        self.WO =(np.random.random((self.N, self.V)) - 0.5) / self.V # output weights\n",
    "        \n",
    "    def average_context_vec(self, context):\n",
    "        c = len(context)\n",
    "        context_weights = map(lambda word: self.WI[self.vocabulary[word]], context)\n",
    "        return reduce(lambda a, b: a + b, context_weights ) / float(c)\n",
    "    \n",
    "    def softmax_regression(self, word, h):\n",
    "        # posterior probability P(word | context)\n",
    "        return (np.exp(h.dot(self.WO.T[self.vocabulary[word]])) / \n",
    "                sum(np.exp(h.dot(self.WO.T[self.vocabulary[w]])) for w in self.vocabulary))\n",
    "    \n",
    "    def backprop(self, context, target):\n",
    "\n",
    "        for word in self.vocabulary:\n",
    "            \n",
    "            h = self.average_context_vec(context)\n",
    "            P_word_context = self.softmax_regression(word, h)\n",
    "\n",
    "            if word == target:\n",
    "                t = 1\n",
    "                print \"P(target|context)\", P_word_context\n",
    "            else:\n",
    "                t = 0\n",
    "\n",
    "            err = t - P_word_context # error\n",
    "            #print \"Error: \", err\n",
    "\n",
    "            # weight update using stochastic gradient descent\n",
    "            self.WO.T[self.vocabulary[word]] -= self.learning_rate * err * h\n",
    "            # update brings word vector closer in the feature space if word = target, and push them apart otherwise.\n",
    "\n",
    "        for input_word in context:\n",
    "            # update only weights for context words\n",
    "            self.WI[self.vocabulary[input_word]] -= (1. / len(context)) * self.learning_rate * self.WO.sum(axis=1) \n",
    "    \n",
    "    def train(self):\n",
    "\n",
    "        bow = self.sentences2bow()\n",
    "        # visualize bag-of-word sentence conversion\n",
    "        # print bow\n",
    "        # print self.vocabulary\n",
    "        self.random_init()\n",
    "        \n",
    "        for sentence in self.sentences:\n",
    "            word_tuple =  tuple(sentence.split())\n",
    "            count = 1\n",
    "            context = []\n",
    "            for i, word in enumerate(word_tuple):\n",
    "                if word != '<s>':\n",
    "                    target = word\n",
    "                    if count > self.context_size:\n",
    "                        context = context[1:]\n",
    "                    context.append(word_tuple[i-1])\n",
    "                    self.backprop(context, target)\n",
    "                    count += 1\n",
    "        return self.WI, OrderedDict(sorted(self.vocabulary.items(), key=lambda t: t[1]))"
   ]
  },
  {
   "cell_type": "code",
   "execution_count": 16,
   "metadata": {
    "collapsed": false,
    "scrolled": true
   },
   "outputs": [
    {
     "name": "stdout",
     "output_type": "stream",
     "text": [
      "P(target|context) 0.0714812375769\n",
      "P(target|context) 0.0715260588705\n",
      "P(target|context) 0.0715043686349\n",
      "P(target|context) 0.0715103426133\n",
      "P(target|context) 0.0715434025883\n",
      "P(target|context) 0.0719147327954\n",
      "P(target|context) 0.0714845978036\n",
      "P(target|context) 0.0714201832019\n",
      "P(target|context) 0.0723554515776\n",
      "P(target|context) 0.0726475544907\n",
      "P(target|context) 0.0713712449366\n",
      "P(target|context) 0.0706727365802\n",
      "P(target|context) 0.0731906949701\n",
      "P(target|context) 0.0742524990174\n",
      "P(target|context) 0.0680179748217\n",
      "P(target|context) 0.0695170421241\n",
      "P(target|context) 0.0743123094941\n",
      "P(target|context) 0.0734160643032\n",
      "P(target|context) 0.0734006355643\n",
      "P(target|context) 0.0659490730866\n",
      "P(target|context) 0.0751480791595\n",
      "P(target|context) 0.0642123761975\n",
      "P(target|context) 0.0773142062981\n",
      "P(target|context) 0.0781154330425\n",
      "P(target|context) 0.0785045757999\n",
      "P(target|context) 0.0725956575331\n",
      "P(target|context) 0.0448255806609\n",
      "P(target|context) 0.0738424174363\n",
      "P(target|context) 0.0795889578314\n",
      "P(target|context) 0.0794003346167\n",
      "P(target|context) 0.0762698208626\n",
      "P(target|context) 0.0581923827651\n",
      "P(target|context) 0.0507281085378\n",
      "P(target|context) 0.0849291875174\n",
      "P(target|context) 0.112338974677\n",
      "P(target|context) 0.0815032513004\n",
      "P(target|context) 0.0133553605469\n",
      "P(target|context) 0.0667397975512\n",
      "P(target|context) 0.0991812209409\n",
      "P(target|context) 0.0909263887152\n",
      "P(target|context) 0.0830665627789\n",
      "P(target|context) 0.0239345332331\n",
      "P(target|context) 0.0218416602108\n",
      "P(target|context) 0.0368546749026\n",
      "P(target|context) 0.000746488869702\n",
      "P(target|context) 0.00684830554815\n",
      "P(target|context) 0.00216108697192\n"
     ]
    }
   ],
   "source": [
    "model = Word2Vec(sentences)\n",
    "W, vocab = model.train()"
   ]
  },
  {
   "cell_type": "code",
   "execution_count": 17,
   "metadata": {
    "collapsed": true
   },
   "outputs": [],
   "source": [
    "import plotly.plotly as py\n",
    "from plotly.graph_objs import *"
   ]
  },
  {
   "cell_type": "code",
   "execution_count": 18,
   "metadata": {
    "collapsed": false
   },
   "outputs": [
    {
     "data": {
      "text/plain": [
       "array([[ 0.30283238, -1.32996329,  0.97070495],\n",
       "       [ 0.61066876, -2.21395145,  1.89908389],\n",
       "       [ 0.23482536, -0.49306701,  0.45764455],\n",
       "       [ 0.20919455, -0.55984225,  0.56419113],\n",
       "       [ 0.18522321, -0.18523405,  0.31744037],\n",
       "       [ 0.00538161, -0.13058823,  0.0638045 ],\n",
       "       [ 0.04274208, -0.31537079,  0.3510505 ],\n",
       "       [-0.13348332,  0.10419463, -0.13948072],\n",
       "       [ 0.25402217, -1.16463965,  1.04047266],\n",
       "       [ 0.16247473, -0.55563625,  0.40452072],\n",
       "       [ 0.3112357 , -0.71023502,  0.78136234],\n",
       "       [ 0.13731118, -0.28422996,  0.06392715],\n",
       "       [-0.02559604, -0.31315487,  0.25195724],\n",
       "       [ 0.15383337, -0.52638489,  0.45821063]])"
      ]
     },
     "execution_count": 18,
     "metadata": {},
     "output_type": "execute_result"
    }
   ],
   "source": [
    "W"
   ]
  },
  {
   "cell_type": "code",
   "execution_count": 19,
   "metadata": {
    "collapsed": false
   },
   "outputs": [
    {
     "data": {
      "text/plain": [
       "OrderedDict([('<s>', 0),\n",
       "             ('the', 1),\n",
       "             ('prince', 2),\n",
       "             ('loves', 3),\n",
       "             ('skateboarding', 4),\n",
       "             ('in', 5),\n",
       "             ('park', 6),\n",
       "             ('</s>', 7),\n",
       "             ('princess', 8),\n",
       "             ('but', 9),\n",
       "             ('hates', 10),\n",
       "             ('is', 11),\n",
       "             ('popular', 12),\n",
       "             ('attention', 13)])"
      ]
     },
     "execution_count": 19,
     "metadata": {},
     "output_type": "execute_result"
    }
   ],
   "source": [
    "vocab"
   ]
  },
  {
   "cell_type": "code",
   "execution_count": 20,
   "metadata": {
    "collapsed": false
   },
   "outputs": [
    {
     "data": {
      "text/html": [
       "<iframe id=\"igraph\" scrolling=\"no\" style=\"border:none;\"seamless=\"seamless\" src=\"https://plot.ly/~DemoAccount/4971.embed\" height=\"525px\" width=\"100%\"></iframe>"
      ],
      "text/plain": [
       "<plotly.tools.PlotlyDisplay object>"
      ]
     },
     "execution_count": 20,
     "metadata": {},
     "output_type": "execute_result"
    }
   ],
   "source": [
    "trace1 = Scatter3d(\n",
    "    x= W.T[0],\n",
    "    y= W.T[1],\n",
    "    z= W.T[2],\n",
    "    mode='markers+text',\n",
    "    text = vocab.keys(),\n",
    "    marker=Marker(\n",
    "        size=12,\n",
    "        line=Line(\n",
    "            color='rgba(217, 217, 217, 0.14)',\n",
    "            width=0.5\n",
    "        ),\n",
    "        opacity=0.8\n",
    "    )\n",
    ")\n",
    "data = Data([trace1])\n",
    "layout = Layout(\n",
    "    margin=Margin(\n",
    "        l=0,\n",
    "        r=0,\n",
    "        b=0,\n",
    "        t=0\n",
    "    )\n",
    ")\n",
    "fig = Figure(data=data, layout=layout)\n",
    "py.iplot(fig)"
   ]
  },
  {
   "cell_type": "code",
   "execution_count": null,
   "metadata": {
    "collapsed": false,
    "scrolled": true
   },
   "outputs": [],
   "source": [
    "word_tuple = tuple(['<s>', 'a', 'b', 'c', 'd', 'e', '</s>'])\n",
    "print word_tuple\n",
    "context_size = 10\n",
    "count = 1\n",
    "context = []\n",
    "for i, word in enumerate(word_tuple):\n",
    "    if word != '<s>':\n",
    "        target = word\n",
    "        if count > context_size:\n",
    "            context = context[1:]\n",
    "        context.append(word_tuple[i-1])\n",
    "        self.backprop(context, target)\n",
    "        print \"context: {},  target: {}\".format(context, target)\n",
    "        count += 1"
   ]
  },
  {
   "cell_type": "markdown",
   "metadata": {},
   "source": [
    "### Paragraph Vector"
   ]
  },
  {
   "cell_type": "code",
   "execution_count": null,
   "metadata": {
    "collapsed": true
   },
   "outputs": [],
   "source": [
    "V = len(vocabulary)\n",
    "N = 3 # number of hiden nodes\n",
    "P = 5 # number of sentences\n",
    "\n",
    "WI = (np.random.random((V, N)) - 0.5) / N\n",
    "WO = (np.random.random((N, V)) - 0.5) / V\n",
    "D =  (np.random.random((P, N)) - 0.5) / N "
   ]
  },
  {
   "cell_type": "code",
   "execution_count": null,
   "metadata": {
    "collapsed": false
   },
   "outputs": [],
   "source": [
    "vocabulary = Vocabulary()\n",
    "sentences_bow = list(docs2bow(sentences, vocabulary))\n",
    "sentences_bow"
   ]
  },
  {
   "cell_type": "code",
   "execution_count": null,
   "metadata": {
    "collapsed": false
   },
   "outputs": [],
   "source": [
    "vocabulary"
   ]
  },
  {
   "cell_type": "code",
   "execution_count": null,
   "metadata": {
    "collapsed": false
   },
   "outputs": [],
   "source": [
    "D"
   ]
  },
  {
   "cell_type": "code",
   "execution_count": null,
   "metadata": {
    "collapsed": false,
    "scrolled": true
   },
   "outputs": [],
   "source": [
    "target_word = 'dangerous'\n",
    "h = (D[0] + WI[vocabulary['snowboarding']]) /2.0\n",
    "learning_rate = 1.0\n",
    "\n",
    "denominator = sum(np.exp(h.dot(WO.T[vocabulary[word]])) for word in vocabulary)\n",
    "\n",
    "for word in vocabulary:\n",
    "    \n",
    "    numerator = np.exp(h.dot(WO.T[vocabulary[word]]))\n",
    "    P = numerator / denominator # posterior probability P(word | context, phrase)\n",
    "    \n",
    "    if word == target_word:\n",
    "        t = 1\n",
    "    else:\n",
    "        t = 0\n",
    "    \n",
    "    err = t - P # error\n",
    "    \n",
    "    # weight update using stochastic gradient descent\n",
    "    WO.T[vocabulary[word]] -= learning_rate * err * h\n",
    "    # update brings word vector closer in the feature space if word = target, and push them apart otherwise.\n",
    "    \n",
    "print WO"
   ]
  },
  {
   "cell_type": "markdown",
   "metadata": {},
   "source": [
    "Backpropagation"
   ]
  },
  {
   "cell_type": "code",
   "execution_count": null,
   "metadata": {
    "collapsed": false
   },
   "outputs": [],
   "source": [
    "EH = WO.sum(axis=1)\n",
    "len_context = 2\n",
    "WI[vocabulary['snowboarding']] -= (1. / len_context) * learning_rate * EH\n",
    "D[0] -= (1. / len_context) * learning_rate * EH"
   ]
  },
  {
   "cell_type": "code",
   "execution_count": null,
   "metadata": {
    "collapsed": true
   },
   "outputs": [],
   "source": []
  }
 ],
 "metadata": {
  "kernelspec": {
   "display_name": "Python 2",
   "language": "python",
   "name": "python2"
  },
  "language_info": {
   "codemirror_mode": {
    "name": "ipython",
    "version": 2
   },
   "file_extension": ".py",
   "mimetype": "text/x-python",
   "name": "python",
   "nbconvert_exporter": "python",
   "pygments_lexer": "ipython2",
   "version": "2.7.10"
  }
 },
 "nbformat": 4,
 "nbformat_minor": 0
}
